{
 "cells": [
  {
   "cell_type": "code",
   "execution_count": 1,
   "metadata": {},
   "outputs": [
    {
     "data": {
      "text/plain": [
       "{'words': 9, 'characters': 45, 'lines': 3}"
      ]
     },
     "execution_count": 1,
     "metadata": {},
     "output_type": "execute_result"
    }
   ],
   "source": [
    "# Exercício 1\n",
    "# Implementar um programa que receba um nome de arquivo e gere estatísticas sobre o arquivo\n",
    "# (número de caracteres, número de linhas e número de palavras)\n",
    "\n",
    "from functools import reduce\n",
    "\n",
    "def fileStatistics (filePath):\n",
    "    characters = 0\n",
    "    lines = 0\n",
    "    words = []\n",
    "    with open(filePath) as file:\n",
    "        _lines = file.readlines()\n",
    "        lines = len(_lines)\n",
    "        for line in _lines:\n",
    "            words += line.split(' ')\n",
    "    \n",
    "    characters = reduce(lambda acc, word : acc + len(word), words, 0)\n",
    "    \n",
    "    return {\n",
    "        'words': len(words),\n",
    "        'characters': characters,\n",
    "        'lines': lines\n",
    "    }\n",
    "\n",
    "fileStatistics('parte2/file-example.txt')"
   ]
  },
  {
   "cell_type": "code",
   "execution_count": 2,
   "metadata": {},
   "outputs": [
    {
     "data": {
      "text/plain": [
       "[('Nome', 'Idade\\n'), ('Fulano', '22\\n'), ('Ciclano', '40\\n')]"
      ]
     },
     "execution_count": 2,
     "metadata": {},
     "output_type": "execute_result"
    }
   ],
   "source": [
    "# Exercício 3\n",
    "# Implementar uma função que leia um arquivo e retorne uma lista de tuplas com os dados\n",
    "# (o separador de campo do arquivo é vírgula), eliminando as linhas vazias.\n",
    "# Caso ocorra algum problema, imprima uma mensagem de aviso e encerre o programa.\n",
    "\n",
    "import traceback\n",
    "\n",
    "def readFileReturnTuples (filePath):\n",
    "    lists = []\n",
    "    try:\n",
    "        with open(filePath) as file:\n",
    "            for line in file.readlines():\n",
    "                lists.append(tuple(line.split(',')))\n",
    "    except:\n",
    "        trace = traceback.format_exc()\n",
    "\n",
    "        print ('Aconteceu um erro:\\n', trace)\n",
    "    \n",
    "    return lists\n",
    "\n",
    "readFileReturnTuples('parte2/file-example2.txt')"
   ]
  },
  {
   "cell_type": "code",
   "execution_count": 3,
   "metadata": {},
   "outputs": [
    {
     "data": {
      "text/plain": [
       "[('e', 27),\n",
       " ('com', 18),\n",
       " ('o', 11),\n",
       " ('senhor', 11),\n",
       " ('a', 11),\n",
       " ('toda', 10),\n",
       " ('se', 10),\n",
       " ('encha', 10),\n",
       " ('glória', 10),\n",
       " ('dos', 10),\n",
       " ('senhores', 10),\n",
       " ('eterno', 10),\n",
       " ('deus', 10),\n",
       " ('os', 9),\n",
       " ('que', 9),\n",
       " ('é', 6),\n",
       " ('de', 5),\n",
       " ('terra', 5),\n",
       " ('sua', 5),\n",
       " ('casa', 5),\n",
       " ('tua', 5),\n",
       " ('fumaça', 5),\n",
       " ('meus', 5),\n",
       " ('olhos', 5),\n",
       " ('sempre', 5),\n",
       " ('vejam', 5),\n",
       " ('rei', 5),\n",
       " ('da', 5),\n",
       " ('você', 4),\n",
       " ('duas', 4),\n",
       " ('cobriam', 4),\n",
       " ('uma', 4),\n",
       " ('canção', 4),\n",
       " ('santo', 4),\n",
       " ('oh', 4),\n",
       " ('eu', 3),\n",
       " ('suas', 3),\n",
       " ('anjos', 3),\n",
       " ('você,', 3),\n",
       " ('asas', 2),\n",
       " ('seu', 2),\n",
       " ('rosto', 2),\n",
       " ('outras', 2),\n",
       " ('seus', 2),\n",
       " ('pés', 2),\n",
       " ('cantavam', 2),\n",
       " ('uns', 2),\n",
       " ('para', 2),\n",
       " ('outros', 2),\n",
       " ('meu', 2),\n",
       " ('desejo', 2),\n",
       " ('sentir', 2),\n",
       " ('rio', 2),\n",
       " ('perene', 2),\n",
       " ('calor', 2),\n",
       " ('do', 2),\n",
       " ('fogo', 2),\n",
       " ('moldado', 2),\n",
       " ('ser', 2),\n",
       " ('pelo', 2),\n",
       " ('poder', 2),\n",
       " ('mãos', 2),\n",
       " ('vento', 2),\n",
       " ('impetuoso,', 2),\n",
       " ('balança-me', 2),\n",
       " ('direciona-me', 2),\n",
       " ('ao', 2),\n",
       " ('teu', 2),\n",
       " ('encontro', 2),\n",
       " ('junto', 2),\n",
       " ('cantarei', 2),\n",
       " ('amor', 2),\n",
       " ('vi', 1),\n",
       " ('sentado', 1),\n",
       " ('num', 1),\n",
       " ('alto', 1),\n",
       " ('sublime', 1),\n",
       " ('trono', 1),\n",
       " ('orla', 1),\n",
       " ('vestes', 1),\n",
       " ('enchiam', 1),\n",
       " ('templo', 1),\n",
       " ('enquanto', 1),\n",
       " ('voavam', 1),\n",
       " ('sobre', 1),\n",
       " ('senhor!', 1)]"
      ]
     },
     "execution_count": 3,
     "metadata": {},
     "output_type": "execute_result"
    }
   ],
   "source": [
    "# Exercício 6\n",
    "# Faça um script que:\n",
    "# Leia um arquivo texto.\n",
    "# Conte as ocorrências de cada palavra.\n",
    "# Mostre os resultados ordenados pelo número de ocorrências.\n",
    "\n",
    "def cleanWord(word):\n",
    "    return word.replace('\\n', '').lower()\n",
    "\n",
    "def takeCount(elem):\n",
    "    return elem[1]\n",
    "\n",
    "def main(filePath):\n",
    "    words = {}\n",
    "    with open(filePath) as file:\n",
    "        for line in file.readlines():\n",
    "            for word in line.split(' '):\n",
    "                _word = cleanWord(word)\n",
    "                if len(_word) == 0:\n",
    "                    continue\n",
    "                if _word in words:\n",
    "                    words[_word] += 1\n",
    "                else:\n",
    "                    words[_word] = 1\n",
    "    \n",
    "    return sorted(words.items(), key=takeCount, reverse=True)\n",
    "\n",
    "main('parte2/file-example3.txt')"
   ]
  }
 ],
 "metadata": {
  "kernelspec": {
   "display_name": "Python 3",
   "language": "python",
   "name": "python3"
  },
  "language_info": {
   "codemirror_mode": {
    "name": "ipython",
    "version": 3
   },
   "file_extension": ".py",
   "mimetype": "text/x-python",
   "name": "python",
   "nbconvert_exporter": "python",
   "pygments_lexer": "ipython3",
   "version": "3.6.5"
  }
 },
 "nbformat": 4,
 "nbformat_minor": 2
}
